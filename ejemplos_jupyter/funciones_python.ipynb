{
 "cells": [
  {
   "cell_type": "markdown",
   "metadata": {},
   "source": [
    "# funciones en python"
   ]
  },
  {
   "cell_type": "markdown",
   "metadata": {},
   "source": [
    "### > funciones sin retorno"
   ]
  },
  {
   "cell_type": "code",
   "execution_count": 3,
   "metadata": {},
   "outputs": [],
   "source": [
    "def pares(init=0, top=10):\n",
    "    for i in range(init,top+1):\n",
    "        if i%2==0:\n",
    "            print(i)"
   ]
  },
  {
   "cell_type": "code",
   "execution_count": 4,
   "metadata": {},
   "outputs": [
    {
     "name": "stdout",
     "output_type": "stream",
     "text": [
      "0\n",
      "2\n",
      "4\n",
      "6\n",
      "8\n",
      "10\n"
     ]
    }
   ],
   "source": [
    "pares(top=10)"
   ]
  },
  {
   "cell_type": "markdown",
   "metadata": {},
   "source": [
    "### > funciones con retorno"
   ]
  },
  {
   "cell_type": "code",
   "execution_count": 28,
   "metadata": {},
   "outputs": [],
   "source": [
    "def pares(init=0, top=10):\n",
    "    l=[]\n",
    "    for i in range(init,top+1):\n",
    "        if i%2==0:\n",
    "            l.append(i)#[2,4,6,8,..]\n",
    "    return l\n",
    "\n",
    "def show_max(l):#[2, 4, 6, 8, 10]\n",
    "    return max(l)\n",
    "    #print(\"maximo: \",max(l))"
   ]
  },
  {
   "cell_type": "code",
   "execution_count": 32,
   "metadata": {},
   "outputs": [
    {
     "name": "stdout",
     "output_type": "stream",
     "text": [
      "r:  [2, 4, 6, 8, 10]\n",
      "10\n"
     ]
    }
   ],
   "source": [
    "r = pares(init=2,top=10)\n",
    "print(\"r: \",r)\n",
    "print(show_max(r))"
   ]
  },
  {
   "cell_type": "markdown",
   "metadata": {},
   "source": [
    "### > funciones pythonicas"
   ]
  },
  {
   "cell_type": "markdown",
   "metadata": {},
   "source": [
    "##### > lambda"
   ]
  },
  {
   "cell_type": "code",
   "execution_count": null,
   "metadata": {},
   "outputs": [],
   "source": [
    "#forma tradicional\n",
    "def suma(x,y):\n",
    "    r=x+y\n",
    "    return r"
   ]
  },
  {
   "cell_type": "code",
   "execution_count": 34,
   "metadata": {},
   "outputs": [
    {
     "data": {
      "text/plain": [
       "7"
      ]
     },
     "execution_count": 34,
     "metadata": {},
     "output_type": "execute_result"
    }
   ],
   "source": [
    "#forma pythonica\n",
    "suma = lambda x,y: x+y\n",
    "suma(3,4)"
   ]
  },
  {
   "cell_type": "code",
   "execution_count": 42,
   "metadata": {},
   "outputs": [
    {
     "name": "stdout",
     "output_type": "stream",
     "text": [
      "juan\n",
      "manuel\n",
      "dario\n",
      "labotec\n"
     ]
    }
   ],
   "source": [
    "camb_nombre = lambda name: 'labotec' if name=='moises' else name\n",
    "\n",
    "ll=['juan', 'manuel', 'dario', 'moises']\n",
    "\n",
    "for i in ll:\n",
    "    print(camb_nombre(i))"
   ]
  },
  {
   "cell_type": "markdown",
   "metadata": {},
   "source": [
    "#### > map"
   ]
  },
  {
   "cell_type": "code",
   "execution_count": 47,
   "metadata": {},
   "outputs": [
    {
     "data": {
      "text/plain": [
       "['juan', 'manuel', 'dario', 'labotec']"
      ]
     },
     "execution_count": 47,
     "metadata": {},
     "output_type": "execute_result"
    }
   ],
   "source": [
    "list(map(camb_nombre, ll))"
   ]
  },
  {
   "cell_type": "code",
   "execution_count": 48,
   "metadata": {},
   "outputs": [
    {
     "data": {
      "text/plain": [
       "[6, 8, 10, 14]"
      ]
     },
     "execution_count": 48,
     "metadata": {},
     "output_type": "execute_result"
    }
   ],
   "source": [
    "list(map(lambda x: x*2, [3,4,5,7])) #map(funcion, lista)\n"
   ]
  },
  {
   "cell_type": "markdown",
   "metadata": {},
   "source": [
    "## funciones con mutiple paramatro"
   ]
  },
  {
   "cell_type": "code",
   "execution_count": 73,
   "metadata": {},
   "outputs": [
    {
     "name": "stdout",
     "output_type": "stream",
     "text": [
      "el valor de a:  1\n",
      "el valor de b:  2\n",
      "el valor de args: (5, 6, 7, 8, 9, 9, 0)\n",
      "el valor de kwargs: {'p': 23, 'q': 45}\n"
     ]
    }
   ],
   "source": [
    "def multi(a,b,*args, **kwargs):\n",
    "    print('el valor de a: ',a)\n",
    "    print('el valor de b: ',b)\n",
    "    print('el valor de args:', args)\n",
    "    print('el valor de kwargs:', kwargs)\n",
    "    \n",
    "multi(1,2, 5,6,7,8,9,9,0, p=23, q=45)\n"
   ]
  }
 ],
 "metadata": {
  "kernelspec": {
   "display_name": "Python 3",
   "language": "python",
   "name": "python3"
  },
  "language_info": {
   "codemirror_mode": {
    "name": "ipython",
    "version": 3
   },
   "file_extension": ".py",
   "mimetype": "text/x-python",
   "name": "python",
   "nbconvert_exporter": "python",
   "pygments_lexer": "ipython3",
   "version": "3.6.5"
  }
 },
 "nbformat": 4,
 "nbformat_minor": 2
}
